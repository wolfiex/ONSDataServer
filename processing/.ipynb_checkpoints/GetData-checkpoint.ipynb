{
 "cells": [
  {
   "cell_type": "code",
   "execution_count": 81,
   "id": "e6debbdc",
   "metadata": {},
   "outputs": [],
   "source": [
    "import pandas as pd\n",
    "import numpy as np\n",
    "from p_tqdm import p_map"
   ]
  },
  {
   "cell_type": "code",
   "execution_count": 2,
   "id": "6f02ca61",
   "metadata": {},
   "outputs": [],
   "source": [
    "from const import DATASETS,SETTINGS"
   ]
  },
  {
   "cell_type": "code",
   "execution_count": 139,
   "id": "ae7207d7",
   "metadata": {},
   "outputs": [],
   "source": [
    "conf = {\n",
    " 'apiurl': 'http://www.nomisweb.co.uk/api/v01/dataset/{dataset}.data.csv?date=latest&geography={geocode}&{cell}={cells}&measures=20100&select={selection}&uid={key}{query_misc}',\n",
    " 'apikey': '0x3cfb19ead752b37bb90da0eb3a0fe78baa9fa055',\n",
    " 'outfile': './data.h5'\n",
    "}\n",
    "\n",
    "area = {#geocode\n",
    "    'lad':'TYPE464'\n",
    "}\n",
    "\n",
    "db_file = './indicators.sqlite'\n",
    "import sqlite3\n",
    "sqlite3.register_adapter(np.int64, lambda val: int(val))\n",
    "sqlite3.register_adapter(np.int32, lambda val: int(val))\n",
    "conn = sqlite3.connect(db_file)\n",
    "# cur = conn.cursor()"
   ]
  },
  {
   "cell_type": "markdown",
   "id": "ba5f4626",
   "metadata": {},
   "source": [
    "## Generate a area and total tally"
   ]
  },
  {
   "cell_type": "code",
   "execution_count": 25,
   "id": "540bd911",
   "metadata": {},
   "outputs": [
    {
     "data": {
      "text/plain": [
       "GEOGRAPHY_CODE\n",
       "E06000001    364695\n",
       "E06000002    550091\n",
       "E06000003    544663\n",
       "E06000004    753238\n",
       "E06000005    414530\n",
       "              ...  \n",
       "W06000020    364174\n",
       "W06000021    358854\n",
       "W06000022    574219\n",
       "W06000023    525282\n",
       "W06000024    232387\n",
       "Name: OBS_VALUE, Length: 348, dtype: int64"
      ]
     },
     "execution_count": 25,
     "metadata": {},
     "output_type": "execute_result"
    }
   ],
   "source": [
    "\n",
    "pop = filter(lambda x:x['code'] == 'population',DATASETS).__next__()\n",
    "    \n",
    "sources = pop['sources']\n",
    "df = False\n",
    "\n",
    "for src in sources:\n",
    "\n",
    "    src = src.copy()\n",
    "    src['cells'] = ','.join(map(str,src['cells']))\n",
    "    src['selection'] = ','.join(map(str,src['selection']))\n",
    "    src['key'] = conf['apikey']\n",
    "    if not hasattr(src,'query_misc'):\n",
    "        src['query_misc']=''\n",
    "    url = conf['apiurl'].format(**src)\n",
    "    if type(df)!= bool:\n",
    "        df = df.append(pd.read_csv(url),)\n",
    "    else:\n",
    "        df = pd.read_csv(url)\n",
    "        \n",
    "## on the assumption that geography codes for each year are different\n",
    "population = df.groupby('GEOGRAPHY_CODE').sum()['OBS_VALUE']"
   ]
  },
  {
   "cell_type": "markdown",
   "id": "8191aa06",
   "metadata": {},
   "source": [
    "##  A function to get the individual dataframes"
   ]
  },
  {
   "cell_type": "code",
   "execution_count": 7,
   "id": "e49b5fae",
   "metadata": {},
   "outputs": [],
   "source": [
    "# def rename(x,mapping):\n",
    "#     try: return mapping[x];\n",
    "#     except Exception as e : \n",
    "#         print(e,x,cellnames)\n",
    "#         return x\n",
    "\n",
    "def process_df (url,src):\n",
    "    dummydf = pd.read_csv(url)\n",
    "    dummydf.columns = 'GEOGRAPHY_CODE YEAR CELL OBS_VALUE'.split()\n",
    "    \n",
    "    \n",
    "    \n",
    "    if 'cellmaps' in src:\n",
    "        cells = ','.join(src['cellnames'])\n",
    "        for k,vs in src['cellmaps'].items():\n",
    "            for v in vs:\n",
    "                cells.replace(v,k)\n",
    "        src['cellnames'] = cells.split(',')\n",
    "        \n",
    "    \n",
    "    mapping = dict(zip(eval(src['cells']),src['cellnames']))\n",
    "        \n",
    "    dummydf['CELL'] = dummydf['CELL'].apply(lambda x: mapping[x])#(rename,mapping = mapping)\n",
    "    \n",
    "    \n",
    "#     if 'cellmaps' in src:\n",
    "#     dummydf = dummydf.groupby(['GEOGRAPHY_CODE','CELL']).sum()['OBS_VALUE']\n",
    "    \n",
    "    return dummydf\n",
    "    \n",
    "        \n",
    "    "
   ]
  },
  {
   "cell_type": "markdown",
   "id": "831dee99",
   "metadata": {},
   "source": [
    "## Process each Year and concat"
   ]
  },
  {
   "cell_type": "code",
   "execution_count": 119,
   "id": "35192fab",
   "metadata": {},
   "outputs": [],
   "source": [
    "\n",
    "# for dataset in DATASETS:\n",
    "def fetch(dataset):\n",
    "    sources = dataset['sources']\n",
    "    #     src = sources[0].copy() \n",
    "    #      dont use pointers copy \n",
    "    \n",
    "    df = False\n",
    "    \n",
    "    for src in sources:\n",
    "        \n",
    "        src = src.copy()\n",
    "        src['cells'] = ','.join(map(str,src['cells']))\n",
    "        src['selection'] = ','.join(map(str,src['selection']))\n",
    "        src['key'] = conf['apikey']\n",
    "        if not hasattr(src,'query_misc'):\n",
    "            src['query_misc']=''\n",
    "\n",
    "\n",
    "        url = conf['apiurl'].format(**src)\n",
    "#         print(url)\n",
    "        \n",
    "        if type(df)!= bool:\n",
    "            \n",
    "            df = pd.concat([df,process_df(url,src)]) \n",
    "            #df.append(process_df(url,src))\n",
    "        else:\n",
    "            df = process_df(url,src)\n",
    "            \n",
    "\n",
    "    \n",
    "    df = df.sort_values('CELL')\n",
    "    order = df.CELL.drop_duplicates()\n",
    "    mapping = dict(zip(order,range(len(order))))\n",
    "    \n",
    "#     df.OBS_VALUE = df.OBS_VALUE.astype(np.float32)\n",
    "    i = df.groupby(['GEOGRAPHY_CODE','CELL']).sum().astype(np.float32).reset_index()\n",
    "    i.CELL = [mapping[k] for k in i.CELL]\n",
    "        \n",
    "    return [dataset['code'], list(enumerate(order)), i]\n"
   ]
  },
  {
   "cell_type": "code",
   "execution_count": 120,
   "id": "95a69a8d",
   "metadata": {},
   "outputs": [
    {
     "data": {
      "application/vnd.jupyter.widget-view+json": {
       "model_id": "135922569514488e81be22d428ef40ab",
       "version_major": 2,
       "version_minor": 0
      },
      "text/plain": [
       "  0%|          | 0/7 [00:00<?, ?it/s]"
      ]
     },
     "metadata": {},
     "output_type": "display_data"
    }
   ],
   "source": [
    "results = p_map(fetch,DATASETS)"
   ]
  },
  {
   "cell_type": "code",
   "execution_count": 129,
   "id": "b6cc127e",
   "metadata": {},
   "outputs": [
    {
     "data": {
      "text/html": [
       "<div>\n",
       "<style scoped>\n",
       "    .dataframe tbody tr th:only-of-type {\n",
       "        vertical-align: middle;\n",
       "    }\n",
       "\n",
       "    .dataframe tbody tr th {\n",
       "        vertical-align: top;\n",
       "    }\n",
       "\n",
       "    .dataframe thead th {\n",
       "        text-align: right;\n",
       "    }\n",
       "</style>\n",
       "<table border=\"1\" class=\"dataframe\">\n",
       "  <thead>\n",
       "    <tr style=\"text-align: right;\">\n",
       "      <th></th>\n",
       "      <th>Name</th>\n",
       "    </tr>\n",
       "    <tr>\n",
       "      <th>index</th>\n",
       "      <th></th>\n",
       "    </tr>\n",
       "  </thead>\n",
       "  <tbody>\n",
       "    <tr>\n",
       "      <th>0</th>\n",
       "      <td>asian</td>\n",
       "    </tr>\n",
       "    <tr>\n",
       "      <th>1</th>\n",
       "      <td>asian_other</td>\n",
       "    </tr>\n",
       "    <tr>\n",
       "      <th>2</th>\n",
       "      <td>bangladeshi</td>\n",
       "    </tr>\n",
       "    <tr>\n",
       "      <th>3</th>\n",
       "      <td>black</td>\n",
       "    </tr>\n",
       "    <tr>\n",
       "      <th>4</th>\n",
       "      <td>chinese</td>\n",
       "    </tr>\n",
       "    <tr>\n",
       "      <th>5</th>\n",
       "      <td>indian</td>\n",
       "    </tr>\n",
       "    <tr>\n",
       "      <th>6</th>\n",
       "      <td>mixed</td>\n",
       "    </tr>\n",
       "    <tr>\n",
       "      <th>7</th>\n",
       "      <td>other</td>\n",
       "    </tr>\n",
       "    <tr>\n",
       "      <th>8</th>\n",
       "      <td>pakistani</td>\n",
       "    </tr>\n",
       "    <tr>\n",
       "      <th>9</th>\n",
       "      <td>white</td>\n",
       "    </tr>\n",
       "  </tbody>\n",
       "</table>\n",
       "</div>"
      ],
      "text/plain": [
       "              Name\n",
       "index             \n",
       "0            asian\n",
       "1      asian_other\n",
       "2      bangladeshi\n",
       "3            black\n",
       "4          chinese\n",
       "5           indian\n",
       "6            mixed\n",
       "7            other\n",
       "8        pakistani\n",
       "9            white"
      ]
     },
     "execution_count": 129,
     "metadata": {},
     "output_type": "execute_result"
    }
   ],
   "source": []
  },
  {
   "cell_type": "code",
   "execution_count": 142,
   "id": "94f85e65",
   "metadata": {},
   "outputs": [
    {
     "name": "stdout",
     "output_type": "stream",
     "text": [
      "population\n",
      "age\n",
      "ethnicity\n",
      "health\n",
      "economic\n",
      "travel\n",
      "tenure\n"
     ]
    }
   ],
   "source": [
    "for name,order,df in results:\n",
    "    print(name)\n",
    "#     df.set_index('GEOGRAPHY_CODE',inplace=True)\n",
    "    df.to_sql(name, con=conn, if_exists='replace')\n",
    "    \n",
    "    order = pd.DataFrame(order,columns = ['CELL','name']).set_index('CELL')\n",
    "    order.to_sql(name+'_names', con=conn, if_exists='replace',index_label='CELL')\n"
   ]
  },
  {
   "cell_type": "code",
   "execution_count": 136,
   "id": "55e5ac26",
   "metadata": {},
   "outputs": [
    {
     "data": {
      "text/html": [
       "<div>\n",
       "<style scoped>\n",
       "    .dataframe tbody tr th:only-of-type {\n",
       "        vertical-align: middle;\n",
       "    }\n",
       "\n",
       "    .dataframe tbody tr th {\n",
       "        vertical-align: top;\n",
       "    }\n",
       "\n",
       "    .dataframe thead th {\n",
       "        text-align: right;\n",
       "    }\n",
       "</style>\n",
       "<table border=\"1\" class=\"dataframe\">\n",
       "  <thead>\n",
       "    <tr style=\"text-align: right;\">\n",
       "      <th></th>\n",
       "      <th>GEOGRAPHY_CODE</th>\n",
       "      <th>CELL</th>\n",
       "      <th>YEAR</th>\n",
       "      <th>OBS_VALUE</th>\n",
       "    </tr>\n",
       "  </thead>\n",
       "  <tbody>\n",
       "    <tr>\n",
       "      <th>0</th>\n",
       "      <td>E06000001</td>\n",
       "      <td>0</td>\n",
       "      <td>28144.0</td>\n",
       "      <td>96140.0</td>\n",
       "    </tr>\n",
       "    <tr>\n",
       "      <th>1</th>\n",
       "      <td>E06000001</td>\n",
       "      <td>1</td>\n",
       "      <td>28144.0</td>\n",
       "      <td>2547.0</td>\n",
       "    </tr>\n",
       "    <tr>\n",
       "      <th>2</th>\n",
       "      <td>E06000001</td>\n",
       "      <td>2</td>\n",
       "      <td>28144.0</td>\n",
       "      <td>20904.0</td>\n",
       "    </tr>\n",
       "    <tr>\n",
       "      <th>3</th>\n",
       "      <td>E06000001</td>\n",
       "      <td>3</td>\n",
       "      <td>28144.0</td>\n",
       "      <td>38496.0</td>\n",
       "    </tr>\n",
       "    <tr>\n",
       "      <th>4</th>\n",
       "      <td>E06000001</td>\n",
       "      <td>4</td>\n",
       "      <td>28144.0</td>\n",
       "      <td>736.0</td>\n",
       "    </tr>\n",
       "    <tr>\n",
       "      <th>...</th>\n",
       "      <td>...</td>\n",
       "      <td>...</td>\n",
       "      <td>...</td>\n",
       "      <td>...</td>\n",
       "    </tr>\n",
       "    <tr>\n",
       "      <th>1735</th>\n",
       "      <td>W06000024</td>\n",
       "      <td>0</td>\n",
       "      <td>28144.0</td>\n",
       "      <td>63061.0</td>\n",
       "    </tr>\n",
       "    <tr>\n",
       "      <th>1736</th>\n",
       "      <td>W06000024</td>\n",
       "      <td>1</td>\n",
       "      <td>28144.0</td>\n",
       "      <td>2235.0</td>\n",
       "    </tr>\n",
       "    <tr>\n",
       "      <th>1737</th>\n",
       "      <td>W06000024</td>\n",
       "      <td>2</td>\n",
       "      <td>28144.0</td>\n",
       "      <td>9874.0</td>\n",
       "    </tr>\n",
       "    <tr>\n",
       "      <th>1738</th>\n",
       "      <td>W06000024</td>\n",
       "      <td>3</td>\n",
       "      <td>28144.0</td>\n",
       "      <td>20641.0</td>\n",
       "    </tr>\n",
       "    <tr>\n",
       "      <th>1739</th>\n",
       "      <td>W06000024</td>\n",
       "      <td>4</td>\n",
       "      <td>28144.0</td>\n",
       "      <td>193.0</td>\n",
       "    </tr>\n",
       "  </tbody>\n",
       "</table>\n",
       "<p>1740 rows × 4 columns</p>\n",
       "</div>"
      ],
      "text/plain": [
       "     GEOGRAPHY_CODE  CELL     YEAR  OBS_VALUE\n",
       "0         E06000001     0  28144.0    96140.0\n",
       "1         E06000001     1  28144.0     2547.0\n",
       "2         E06000001     2  28144.0    20904.0\n",
       "3         E06000001     3  28144.0    38496.0\n",
       "4         E06000001     4  28144.0      736.0\n",
       "...             ...   ...      ...        ...\n",
       "1735      W06000024     0  28144.0    63061.0\n",
       "1736      W06000024     1  28144.0     2235.0\n",
       "1737      W06000024     2  28144.0     9874.0\n",
       "1738      W06000024     3  28144.0    20641.0\n",
       "1739      W06000024     4  28144.0      193.0\n",
       "\n",
       "[1740 rows x 4 columns]"
      ]
     },
     "execution_count": 136,
     "metadata": {},
     "output_type": "execute_result"
    }
   ],
   "source": []
  },
  {
   "cell_type": "code",
   "execution_count": null,
   "id": "137c5528",
   "metadata": {},
   "outputs": [],
   "source": [
    "\n"
   ]
  },
  {
   "cell_type": "code",
   "execution_count": null,
   "id": "0d4913ec",
   "metadata": {},
   "outputs": [],
   "source": []
  },
  {
   "cell_type": "code",
   "execution_count": null,
   "id": "414fd3d9",
   "metadata": {},
   "outputs": [],
   "source": []
  },
  {
   "cell_type": "code",
   "execution_count": null,
   "id": "e058c541",
   "metadata": {},
   "outputs": [],
   "source": []
  },
  {
   "cell_type": "code",
   "execution_count": null,
   "id": "d245e22e",
   "metadata": {},
   "outputs": [],
   "source": []
  },
  {
   "cell_type": "code",
   "execution_count": null,
   "id": "281e18d6",
   "metadata": {},
   "outputs": [],
   "source": [
    "!open .\n"
   ]
  },
  {
   "cell_type": "code",
   "execution_count": null,
   "id": "8a4f5557",
   "metadata": {},
   "outputs": [],
   "source": []
  },
  {
   "cell_type": "code",
   "execution_count": null,
   "id": "b6658934",
   "metadata": {},
   "outputs": [],
   "source": []
  }
 ],
 "metadata": {
  "kernelspec": {
   "display_name": "Python 3 (ipykernel)",
   "language": "python",
   "name": "python3"
  },
  "language_info": {
   "codemirror_mode": {
    "name": "ipython",
    "version": 3
   },
   "file_extension": ".py",
   "mimetype": "text/x-python",
   "name": "python",
   "nbconvert_exporter": "python",
   "pygments_lexer": "ipython3",
   "version": "3.9.7"
  }
 },
 "nbformat": 4,
 "nbformat_minor": 5
}
