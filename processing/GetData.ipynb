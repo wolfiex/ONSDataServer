{
 "cells": [
  {
   "cell_type": "code",
   "execution_count": null,
   "id": "e6debbdc",
   "metadata": {},
   "outputs": [],
   "source": [
    "import pandas as pd\n",
    "import numpy as np\n",
    "from p_tqdm import p_map"
   ]
  },
  {
   "cell_type": "code",
   "execution_count": null,
   "id": "6f02ca61",
   "metadata": {},
   "outputs": [],
   "source": [
    "from const import DATASETS,SETTINGS\n"
   ]
  },
  {
   "cell_type": "markdown",
   "id": "a5ef0c02",
   "metadata": {},
   "source": [
    "### Merge all centroids for relevant Layer. "
   ]
  },
  {
   "cell_type": "code",
   "execution_count": null,
   "id": "ae7207d7",
   "metadata": {},
   "outputs": [],
   "source": [
    "# def get_centroids(kind):\n",
    "areatype = 'Middle_Layer_Super_Output_Areas'    \n",
    "\n",
    "\n",
    "\n"
   ]
  },
  {
   "cell_type": "markdown",
   "id": "ba5f4626",
   "metadata": {},
   "source": [
    "## GENERATE CENTROIDS AND NAME ARRAY"
   ]
  },
  {
   "cell_type": "code",
   "execution_count": null,
   "id": "e4b84e42",
   "metadata": {},
   "outputs": [],
   "source": [
    "cdf = pd.DataFrame()\n",
    "for y in SETTINGS.years:\n",
    "    f = SETTINGS.matchC(areatype,y)\n",
    "    print(f)\n",
    "    dummy = pd.read_csv(f)\n",
    "    dummy['YEAR'] = y\n",
    "    # dummy.columns = ['AREACD' if 'cd' in x.lower() else x for x in dummy.columns]\n",
    "    cdf = pd.concat([cdf, dummy ],axis=0)# df.append(process_df(url,src))\n",
    "\n",
    "\n",
    "# cdf = pd.read_csv('/Users/danielellis/ONSDataServer/processing/centroids/national_archives/Lower_layer_super_output_areas_(E+W)_2011_Population_Weighted_Centroids_V2/LSOA_2011_EW_PWC_COORD_V2.CSV')[['LSOA11CD','LONGITUDE','LATITUDE']]\n",
    "# print(cdf)\n",
    "# # [['LSOA11CD','LONGITUDE','LATITUDE']]\n",
    "    \n",
    "    # '/Users/danielellis/ONSDataServer/processing/centroids/national_archives/Middle_layer_super_output_areas_(E+W)_2011_Population_Weighted_Centroids_V2/MSOA_2011_EW_PWC_COORD_V2.CSV')[['MSOA11CD','LONGITUDE','LATITUDE']]\n",
    "cdf['YEAR'] = 2011\n",
    "\n",
    "cdf.columns = 'AREACD LAT LON YEAR'.split()\n",
    "cdf.groupby('AREACD').mean().reset_index()\n",
    "cdf['GEOGRAPHY_CODE'] = cdf.index\n",
    "cdf = cdf.astype({'AREACD': str,\n",
    "            'LAT': np.int32,\n",
    "            'LON': np.int32,\n",
    "            'YEAR': np.int32,\n",
    "            'GEOGRAPHY_CODE': np.int32})\n",
    "\n",
    "geomap = dict(zip(cdf.AREACD,cdf.GEOGRAPHY_CODE))\n",
    "cdf"
   ]
  },
  {
   "cell_type": "code",
   "execution_count": null,
   "id": "540bd911",
   "metadata": {},
   "outputs": [],
   "source": [
    "\n",
    "\n"
   ]
  },
  {
   "cell_type": "markdown",
   "id": "8191aa06",
   "metadata": {},
   "source": [
    "##  A function to get the individual dataframes"
   ]
  },
  {
   "cell_type": "code",
   "execution_count": null,
   "id": "e49b5fae",
   "metadata": {},
   "outputs": [],
   "source": [
    "def process_df(url, src):\n",
    "    '''Read each individaul query and return a dataframe'''\n",
    "    print(url)\n",
    "    dummydf = pd.read_csv(url)\n",
    "    dummydf.columns = 'GEOGRAPHY_CODE YEAR CELL OBS_VALUE'.split()\n",
    "\n",
    "    if 'cellmaps' in src:\n",
    "        cells = '0,'+','.join(src['cellnames'])\n",
    "        cells = ','.join(src['cellnames'])\n",
    "        for v, k in src['cellmaps'].items(): \n",
    "            for c in k: \n",
    "                cells = cells.replace(c,v)\n",
    "        src['cellnames'] = ('Totals,'+cells).split(',')\n",
    "\n",
    "    mapping = dict(zip(eval(src['cells']), src['cellnames']))\n",
    "    dummydf['CELL'] = dummydf['CELL'].apply(lambda x: mapping[x])   # (rename,mapping = mapping)\n",
    "    return dummydf\n",
    "\n"
   ]
  },
  {
   "cell_type": "markdown",
   "id": "831dee99",
   "metadata": {},
   "source": [
    "## Process each Year and concat"
   ]
  },
  {
   "cell_type": "code",
   "execution_count": null,
   "id": "35192fab",
   "metadata": {},
   "outputs": [],
   "source": [
    "def fetch(dataset):\n",
    "    '''Fetch the data from the source'''\n",
    "    global SETTINGS\n",
    "    sources = dataset['sources']\n",
    "    #     src = sources[0].copy()\n",
    "    #      dont use pointers copy\n",
    "\n",
    "    df = False\n",
    "    \n",
    "    for src in sources:\n",
    "        src = src.copy()\n",
    "        src['cells'] = ','.join(map(str, src['cells']))\n",
    "        src['selection'] = ','.join(map(str, src['selection']))\n",
    "        src['key'] = SETTINGS.conf['apikey']\n",
    "        src['geocode'] = SETTINGS.geocode[areatype][src['year']]\n",
    "        if not hasattr(src, 'query_misc'): src['query_misc'] = ''\n",
    "\n",
    "        url = SETTINGS.conf['apiurl'].format(**src)\n",
    "        print(src)\n",
    "        if type(df) != bool: df = pd.concat([df, process_df(url, src)]) # df.append(process_df(url,src))\n",
    "        else: df = process_df(url, src)\n",
    "        print(df.head())\n",
    "\n",
    "    # return df\n",
    "    print('mapping')\n",
    "    # subcategory = mapping\n",
    "    df = df[['GEOGRAPHY_CODE', 'CELL', 'OBS_VALUE','YEAR']]\n",
    "    df = df.sort_values('CELL')\n",
    "    order = df.CELL.drop_duplicates().to_list()\n",
    "\n",
    "\n",
    "    if 'Totals' not in order: \n",
    "        b = df.groupby('GEOGRAPHY_CODE').sum()\n",
    "        b.CELL = 'Totals'\n",
    "        df = pd.concat([df,b.reset_index()],axis=0)  \n",
    "        order=['Totals']+order\n",
    "\n",
    "    mapping = dict(zip(order, range(len(order))))\n",
    "    \n",
    "\n",
    "    # datamong\n",
    "    df['GEOGRAPHY_CODE'] = df['GEOGRAPHY_CODE'].apply(lambda x: geomap[x]).astype(np.uint16)\n",
    "    i = df.groupby(['GEOGRAPHY_CODE', 'CELL']).sum().astype(np.uint32).reset_index()\n",
    "    i.CELL = [mapping[k] for k in i.CELL]\n",
    "\n",
    "\n",
    "    # return i[['GEOGRAPHY_CODE', 'CELL', 'OBS_VALUE']]]\n",
    "    \n",
    "\n",
    "    return [dataset['code'], pd.DataFrame(order,columns = ['CELL','name']).set_index('CELL') , i[['GEOGRAPHY_CODE', 'CELL', 'OBS_VALUE']]]\n"
   ]
  },
  {
   "cell_type": "code",
   "execution_count": null,
   "id": "5db9df21",
   "metadata": {},
   "outputs": [],
   "source": [
    "SETTINGS.geocode[areatype]"
   ]
  },
  {
   "cell_type": "markdown",
   "id": "b3aae15d",
   "metadata": {},
   "source": [
    "### Parallel Fetch \n"
   ]
  },
  {
   "cell_type": "code",
   "execution_count": null,
   "id": "6d880f1a",
   "metadata": {},
   "outputs": [],
   "source": [
    "\n",
    "results = p_map(fetch,DATASETS)\n",
    "\n",
    "# results = []\n",
    "# for i in DATASETS:\n",
    "#     results.append(fetch(i))\n",
    "\n",
    "# print(results)\n",
    "\n",
    "# a = fetch(DATASETS[4])"
   ]
  },
  {
   "cell_type": "code",
   "execution_count": null,
   "id": "93572a6a",
   "metadata": {},
   "outputs": [],
   "source": [
    "a = results[1]\n",
    "print(a)\n",
    "print(a[a.YEAR==2011])\n",
    "# [geomap[i] for i in a.GEOGRAPHY_CODE]\n",
    "\n",
    "geomap\n",
    "e=a[:].GEOGRAPHY_CODE.drop_duplicates()\n",
    "print(e)\n",
    "s = 0 \n",
    "f = 0\n",
    "miss = []\n",
    "for i in e.values:\n",
    "\n",
    "    try:\n",
    "        (geomap[i])\n",
    "        s+=1\n",
    "    except:\n",
    "        f+=1\n",
    "        miss.append(i)\n",
    "print(s,f,len(miss))\n",
    "        \n",
    "print(miss[:20])\n",
    "geomap"
   ]
  },
  {
   "cell_type": "code",
   "execution_count": null,
   "id": "95a69a8d",
   "metadata": {},
   "outputs": [],
   "source": [
    "\n",
    "db_file = f'./{areatype}.sqlite'\n",
    "\n",
    "import sqlite3\n",
    "sqlite3.register_adapter(np.int64, lambda val: int(val))\n",
    "sqlite3.register_adapter(np.int32, lambda val: int(val))\n",
    "conn = sqlite3.connect(db_file)\n",
    "# cur = conn.cursor()\n",
    "\n",
    "\n",
    "for name,order,df in results:\n",
    "    print(name)\n",
    "    df.to_sql(name, con=conn, if_exists='replace',index_label='GEOMETRY_ID')\n",
    "    order.to_sql(name+'_names', con=conn, if_exists='replace',index_label='CELL')\n",
    "\n"
   ]
  },
  {
   "cell_type": "markdown",
   "id": "f6cced94",
   "metadata": {},
   "source": [
    "### Write To DB"
   ]
  },
  {
   "cell_type": "code",
   "execution_count": null,
   "id": "94f85e65",
   "metadata": {},
   "outputs": [],
   "source": [
    "SETTINGS.centroids"
   ]
  },
  {
   "cell_type": "code",
   "execution_count": null,
   "id": "1fea234c",
   "metadata": {},
   "outputs": [],
   "source": [
    "a[a.YEAR==2011]"
   ]
  },
  {
   "cell_type": "markdown",
   "id": "a7b95659",
   "metadata": {},
   "source": [
    "### SHRINK THE DATABASE"
   ]
  },
  {
   "cell_type": "code",
   "execution_count": null,
   "id": "55e5ac26",
   "metadata": {},
   "outputs": [],
   "source": [
    "from pathlib import Path\n",
    "file_size = Path(db_file).stat().st_size\n",
    "\n",
    "print(\"The file size WAS:\", file_size/1048576,\"MB\")\n",
    "\n",
    "conn.execute(\"VACUUM\") ### SHRINK!!!!\n",
    "conn.close()\n",
    "\n",
    "file_size = Path(db_file).stat().st_size\n",
    "\n",
    "print(\"The file size is:\", file_size/1048576,\"MB\")"
   ]
  },
  {
   "cell_type": "code",
   "execution_count": null,
   "id": "b6658934",
   "metadata": {},
   "outputs": [],
   "source": []
  },
  {
   "cell_type": "markdown",
   "id": "0f3a6e5f",
   "metadata": {},
   "source": [
    "### CENTROIDS table"
   ]
  },
  {
   "cell_type": "code",
   "execution_count": null,
   "id": "f3768002",
   "metadata": {},
   "outputs": [],
   "source": []
  },
  {
   "cell_type": "code",
   "execution_count": null,
   "id": "02a1787e",
   "metadata": {},
   "outputs": [],
   "source": []
  },
  {
   "cell_type": "markdown",
   "id": "44f4455e",
   "metadata": {},
   "source": []
  },
  {
   "cell_type": "code",
   "execution_count": null,
   "id": "b17b6900",
   "metadata": {},
   "outputs": [],
   "source": []
  },
  {
   "cell_type": "code",
   "execution_count": null,
   "id": "7acb8a2a",
   "metadata": {},
   "outputs": [],
   "source": []
  },
  {
   "cell_type": "code",
   "execution_count": null,
   "id": "d3ebffe3",
   "metadata": {},
   "outputs": [],
   "source": []
  },
  {
   "cell_type": "code",
   "execution_count": null,
   "id": "8c8a6a53",
   "metadata": {},
   "outputs": [],
   "source": []
  }
 ],
 "metadata": {
  "kernelspec": {
   "display_name": "Python 3 (ipykernel)",
   "language": "python",
   "name": "python3"
  },
  "language_info": {
   "codemirror_mode": {
    "name": "ipython",
    "version": 3
   },
   "file_extension": ".py",
   "mimetype": "text/x-python",
   "name": "python",
   "nbconvert_exporter": "python",
   "pygments_lexer": "ipython3",
   "version": "3.9.7"
  }
 },
 "nbformat": 4,
 "nbformat_minor": 5
}
